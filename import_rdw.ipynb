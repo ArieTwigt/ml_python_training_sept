{
 "cells": [
  {
   "cell_type": "code",
   "execution_count": 41,
   "id": "0d31d844",
   "metadata": {},
   "outputs": [],
   "source": [
    "import requests\n",
    "import pandas"
   ]
  },
  {
   "cell_type": "code",
   "execution_count": 42,
   "id": "3d464b85",
   "metadata": {},
   "outputs": [
    {
     "name": "stdout",
     "output_type": "stream",
     "text": [
      "Voer merk in:opel\n"
     ]
    }
   ],
   "source": [
    "brand = input(\"Voer merk in:\")\n",
    "\n",
    "endpoint = f\"https://opendata.rdw.nl/resource/m9d7-ebf2.json?merk={brand.upper()}\""
   ]
  },
  {
   "cell_type": "code",
   "execution_count": 43,
   "id": "d2f5d284",
   "metadata": {},
   "outputs": [],
   "source": [
    "response = requests.get(endpoint)"
   ]
  },
  {
   "cell_type": "code",
   "execution_count": 44,
   "id": "24a435a1",
   "metadata": {},
   "outputs": [],
   "source": [
    "cars_list = response.json()"
   ]
  },
  {
   "cell_type": "code",
   "execution_count": 46,
   "id": "b6ad850b",
   "metadata": {},
   "outputs": [],
   "source": [
    "cars_df = pandas.DataFrame(cars_list)"
   ]
  },
  {
   "cell_type": "code",
   "execution_count": 47,
   "id": "9644cd63",
   "metadata": {},
   "outputs": [],
   "source": [
    "cars_df.to_csv(f\"export_{brand}.csv\", sep=\";\", index=False)"
   ]
  }
 ],
 "metadata": {
  "kernelspec": {
   "display_name": "Python 3 (ipykernel)",
   "language": "python",
   "name": "python3"
  },
  "language_info": {
   "codemirror_mode": {
    "name": "ipython",
    "version": 3
   },
   "file_extension": ".py",
   "mimetype": "text/x-python",
   "name": "python",
   "nbconvert_exporter": "python",
   "pygments_lexer": "ipython3",
   "version": "3.9.7"
  }
 },
 "nbformat": 4,
 "nbformat_minor": 5
}
